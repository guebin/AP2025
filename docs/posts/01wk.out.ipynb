{
  "cells": [
    {
      "cell_type": "markdown",
      "metadata": {},
      "source": [
        "# 01wk: 강의소개, 확률을 정의하는 것은 쉬운 일인가?, 르벡메저 (under\n",
        "\n",
        "construction…)\n",
        "\n",
        "최규빈  \n",
        "2025-09-02\n",
        "\n",
        "# 강의영상\n",
        "\n",
        "> 추후 링크제공예정 (2025)"
      ],
      "id": "6f292a7f-79b1-4cb1-a4e3-eb83ca10e871"
    }
  ],
  "nbformat": 4,
  "nbformat_minor": 5,
  "metadata": {
    "celltoolbar": "Slideshow",
    "kernelspec": {
      "name": "python3",
      "display_name": "Python 3",
      "language": "python"
    },
    "language_info": {
      "name": "python",
      "codemirror_mode": {
        "name": "ipython",
        "version": "3"
      },
      "file_extension": ".py",
      "mimetype": "text/x-python",
      "nbconvert_exporter": "python",
      "pygments_lexer": "ipython3",
      "version": "3.8.16"
    }
  }
}