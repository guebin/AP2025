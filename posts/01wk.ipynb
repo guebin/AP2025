{
 "cells": [
  {
   "cell_type": "raw",
   "id": "63637203",
   "metadata": {
    "vscode": {
     "languageId": "raw"
    }
   },
   "source": [
    "---\n",
    "title: \"01wk: 강의소개, 확률을 정의하는 것은 쉬운 일인가?, 르벡메저 (under construction...)\"\n",
    "author: \"최규빈\"\n",
    "date: \"09/02/2025\"\n",
    "reference-location: margin\n",
    "citation-location: margin\n",
    "cap-location: margin\n",
    "---"
   ]
  },
  {
   "cell_type": "markdown",
   "id": "dda2f9de-d0e9-4367-9a9f-d0c28012810c",
   "metadata": {
    "tags": []
   },
   "source": [
    "# 강의영상 "
   ]
  },
  {
   "cell_type": "markdown",
   "id": "86480d71-6def-4edf-87d0-ab0a027ec690",
   "metadata": {},
   "source": [
    "> 추후 링크제공예정 (2025)"
   ]
  }
 ],
 "metadata": {
  "celltoolbar": "Slideshow",
  "kernelspec": {
   "display_name": "Python 3",
   "language": "python",
   "name": "python3"
  },
  "language_info": {
   "codemirror_mode": {
    "name": "ipython",
    "version": 3
   },
   "file_extension": ".py",
   "mimetype": "text/x-python",
   "name": "python",
   "nbconvert_exporter": "python",
   "pygments_lexer": "ipython3",
   "version": "3.8.16"
  }
 },
 "nbformat": 4,
 "nbformat_minor": 5
}
